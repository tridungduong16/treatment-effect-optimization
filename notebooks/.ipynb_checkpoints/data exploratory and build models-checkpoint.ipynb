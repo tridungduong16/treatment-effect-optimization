{
 "cells": [
  {
   "cell_type": "markdown",
   "metadata": {},
   "source": [
    "## Import library"
   ]
  },
  {
   "cell_type": "code",
   "execution_count": 1,
   "metadata": {},
   "outputs": [],
   "source": [
    "import pandas as pd\n",
    "import numpy as np\n",
    "import pickle \n",
    "\n",
    "from sklearn.linear_model import LinearRegression\n",
    "from sklearn.metrics import mean_squared_error\n",
    "from sklearn.linear_model import ElasticNet\n",
    "from sklearn.ensemble import GradientBoostingRegressor"
   ]
  },
  {
   "cell_type": "markdown",
   "metadata": {},
   "source": [
    "## Load data\n",
    "\n",
    "This data estimating the effects of nutrients on stream invertebrates from observational data using the method of generalized propensity score The methodology generally follow: Hirano, K., and G. W. Imbens. 2004. The propensity score with continuous treatments. Missing data and bayesian methods in practice: contributions by Donald Rubin's statistical family. The data tested here are collected by the USEPA at wadeable stream reaches from 12 western U.S. states. The orignal dataset are available here:https://www.epa.gov/national-aquatic-resource-surveys/wadeable-streams-assessment We also provide a cleaned data subset used in my paper:The effects of nutrients on stream invertebrates: A regional estimation by generalized propensity score\n",
    "\n",
    "* the treatment (logTN)\n",
    "* the response (IR)"
   ]
  },
  {
   "cell_type": "code",
   "execution_count": 2,
   "metadata": {},
   "outputs": [],
   "source": [
    "DATA_PATH = \"/data/trduong/treatment-effect-optimization/data/raw/{}\"\n",
    "MODEL_PATH = \"/data/trduong/treatment-effect-optimization/models/{}\""
   ]
  },
  {
   "cell_type": "code",
   "execution_count": 3,
   "metadata": {},
   "outputs": [],
   "source": [
    "df = pd.read_csv(DATA_PATH.format('stream.csv'))"
   ]
  },
  {
   "cell_type": "code",
   "execution_count": 4,
   "metadata": {},
   "outputs": [
    {
     "data": {
      "text/html": [
       "<div>\n",
       "<style scoped>\n",
       "    .dataframe tbody tr th:only-of-type {\n",
       "        vertical-align: middle;\n",
       "    }\n",
       "\n",
       "    .dataframe tbody tr th {\n",
       "        vertical-align: top;\n",
       "    }\n",
       "\n",
       "    .dataframe thead th {\n",
       "        text-align: right;\n",
       "    }\n",
       "</style>\n",
       "<table border=\"1\" class=\"dataframe\">\n",
       "  <thead>\n",
       "    <tr style=\"text-align: right;\">\n",
       "      <th></th>\n",
       "      <th>ID</th>\n",
       "      <th>Taxonrich</th>\n",
       "      <th>logTN</th>\n",
       "      <th>ELEV</th>\n",
       "      <th>longitude</th>\n",
       "      <th>logprecip</th>\n",
       "      <th>logAREA</th>\n",
       "      <th>logCL</th>\n",
       "      <th>logHCO3</th>\n",
       "      <th>logSO4</th>\n",
       "      <th>SED</th>\n",
       "      <th>STRMTEMP</th>\n",
       "      <th>Percent.AGT</th>\n",
       "      <th>Percent.URB</th>\n",
       "      <th>Percent.Canopy</th>\n",
       "      <th>Riparian.Disturb.</th>\n",
       "    </tr>\n",
       "  </thead>\n",
       "  <tbody>\n",
       "    <tr>\n",
       "      <th>0</th>\n",
       "      <td>1</td>\n",
       "      <td>42</td>\n",
       "      <td>2.439333</td>\n",
       "      <td>2149</td>\n",
       "      <td>-104.904722</td>\n",
       "      <td>-0.514165</td>\n",
       "      <td>4.111693</td>\n",
       "      <td>6.156131</td>\n",
       "      <td>7.510238</td>\n",
       "      <td>5.685619</td>\n",
       "      <td>40.000000</td>\n",
       "      <td>18.5</td>\n",
       "      <td>0.34</td>\n",
       "      <td>0.80</td>\n",
       "      <td>0.500000</td>\n",
       "      <td>0.33335</td>\n",
       "    </tr>\n",
       "    <tr>\n",
       "      <th>1</th>\n",
       "      <td>2</td>\n",
       "      <td>26</td>\n",
       "      <td>2.891537</td>\n",
       "      <td>760</td>\n",
       "      <td>-101.782640</td>\n",
       "      <td>-0.825536</td>\n",
       "      <td>4.937993</td>\n",
       "      <td>5.731073</td>\n",
       "      <td>8.365002</td>\n",
       "      <td>6.002157</td>\n",
       "      <td>29.523810</td>\n",
       "      <td>27.0</td>\n",
       "      <td>21.22</td>\n",
       "      <td>0.46</td>\n",
       "      <td>0.681818</td>\n",
       "      <td>1.50000</td>\n",
       "    </tr>\n",
       "    <tr>\n",
       "      <th>2</th>\n",
       "      <td>3</td>\n",
       "      <td>58</td>\n",
       "      <td>1.897627</td>\n",
       "      <td>58</td>\n",
       "      <td>-121.978611</td>\n",
       "      <td>0.981704</td>\n",
       "      <td>6.171805</td>\n",
       "      <td>3.815512</td>\n",
       "      <td>6.291312</td>\n",
       "      <td>4.163560</td>\n",
       "      <td>11.428571</td>\n",
       "      <td>18.1</td>\n",
       "      <td>0.00</td>\n",
       "      <td>0.24</td>\n",
       "      <td>0.090909</td>\n",
       "      <td>0.00000</td>\n",
       "    </tr>\n",
       "    <tr>\n",
       "      <th>3</th>\n",
       "      <td>4</td>\n",
       "      <td>32</td>\n",
       "      <td>2.642465</td>\n",
       "      <td>1719</td>\n",
       "      <td>-108.826667</td>\n",
       "      <td>-0.452557</td>\n",
       "      <td>7.888537</td>\n",
       "      <td>8.357799</td>\n",
       "      <td>7.663746</td>\n",
       "      <td>6.764693</td>\n",
       "      <td>18.095238</td>\n",
       "      <td>8.1</td>\n",
       "      <td>1.51</td>\n",
       "      <td>0.05</td>\n",
       "      <td>0.227273</td>\n",
       "      <td>0.00000</td>\n",
       "    </tr>\n",
       "    <tr>\n",
       "      <th>4</th>\n",
       "      <td>5</td>\n",
       "      <td>55</td>\n",
       "      <td>2.252853</td>\n",
       "      <td>1146</td>\n",
       "      <td>-117.531667</td>\n",
       "      <td>0.156149</td>\n",
       "      <td>3.156575</td>\n",
       "      <td>3.063391</td>\n",
       "      <td>7.678875</td>\n",
       "      <td>5.563370</td>\n",
       "      <td>16.190476</td>\n",
       "      <td>13.9</td>\n",
       "      <td>0.72</td>\n",
       "      <td>0.02</td>\n",
       "      <td>0.818182</td>\n",
       "      <td>0.00000</td>\n",
       "    </tr>\n",
       "  </tbody>\n",
       "</table>\n",
       "</div>"
      ],
      "text/plain": [
       "   ID  Taxonrich     logTN  ELEV   longitude  logprecip   logAREA     logCL  \\\n",
       "0   1         42  2.439333  2149 -104.904722  -0.514165  4.111693  6.156131   \n",
       "1   2         26  2.891537   760 -101.782640  -0.825536  4.937993  5.731073   \n",
       "2   3         58  1.897627    58 -121.978611   0.981704  6.171805  3.815512   \n",
       "3   4         32  2.642465  1719 -108.826667  -0.452557  7.888537  8.357799   \n",
       "4   5         55  2.252853  1146 -117.531667   0.156149  3.156575  3.063391   \n",
       "\n",
       "    logHCO3    logSO4        SED  STRMTEMP  Percent.AGT  Percent.URB  \\\n",
       "0  7.510238  5.685619  40.000000      18.5         0.34         0.80   \n",
       "1  8.365002  6.002157  29.523810      27.0        21.22         0.46   \n",
       "2  6.291312  4.163560  11.428571      18.1         0.00         0.24   \n",
       "3  7.663746  6.764693  18.095238       8.1         1.51         0.05   \n",
       "4  7.678875  5.563370  16.190476      13.9         0.72         0.02   \n",
       "\n",
       "   Percent.Canopy  Riparian.Disturb.  \n",
       "0        0.500000            0.33335  \n",
       "1        0.681818            1.50000  \n",
       "2        0.090909            0.00000  \n",
       "3        0.227273            0.00000  \n",
       "4        0.818182            0.00000  "
      ]
     },
     "execution_count": 4,
     "metadata": {},
     "output_type": "execute_result"
    }
   ],
   "source": [
    "df.head()"
   ]
  },
  {
   "cell_type": "code",
   "execution_count": 5,
   "metadata": {},
   "outputs": [
    {
     "data": {
      "text/plain": [
       "Index(['ID', 'Taxonrich', 'logTN', 'ELEV', 'longitude', 'logprecip', 'logAREA',\n",
       "       'logCL', 'logHCO3', 'logSO4', 'SED', 'STRMTEMP', 'Percent.AGT',\n",
       "       'Percent.URB', 'Percent.Canopy', 'Riparian.Disturb.'],\n",
       "      dtype='object')"
      ]
     },
     "execution_count": 5,
     "metadata": {},
     "output_type": "execute_result"
    }
   ],
   "source": [
    "df.columns"
   ]
  },
  {
   "cell_type": "code",
   "execution_count": 6,
   "metadata": {},
   "outputs": [
    {
     "data": {
      "text/plain": [
       "(670, 16)"
      ]
     },
     "execution_count": 6,
     "metadata": {},
     "output_type": "execute_result"
    }
   ],
   "source": [
    "df.shape"
   ]
  },
  {
   "cell_type": "code",
   "execution_count": 7,
   "metadata": {},
   "outputs": [],
   "source": [
    "treatment = 'logTN'\n",
    "outcome = 'Taxonrich'\n",
    "features = ['logTN', 'ELEV', 'longitude', 'logprecip', 'logAREA',\n",
    "       'logCL', 'logHCO3', 'logSO4', 'SED', 'STRMTEMP', 'Percent.AGT',\n",
    "       'Percent.URB', 'Percent.Canopy', 'Riparian.Disturb.']\n",
    "covariates = ['ELEV', 'longitude', 'logprecip', 'logAREA',\n",
    "       'logCL', 'logHCO3', 'logSO4', 'SED', 'STRMTEMP', 'Percent.AGT',\n",
    "       'Percent.URB', 'Percent.Canopy', 'Riparian.Disturb.']"
   ]
  },
  {
   "cell_type": "markdown",
   "metadata": {},
   "source": [
    "## Build treatment model and outcome model"
   ]
  },
  {
   "cell_type": "code",
   "execution_count": 8,
   "metadata": {},
   "outputs": [
    {
     "name": "stderr",
     "output_type": "stream",
     "text": [
      "/home/trduong/anaconda3/envs/cf-generation/lib/python3.7/site-packages/sklearn/utils/validation.py:72: DataConversionWarning: A column-vector y was passed when a 1d array was expected. Please change the shape of y to (n_samples, ), for example using ravel().\n",
      "  return f(**kwargs)\n"
     ]
    }
   ],
   "source": [
    "reg = LinearRegression()\n",
    "reg = ElasticNet(random_state=0)\n",
    "reg = GradientBoostingRegressor(random_state=0)\n",
    "reg.fit(df[covariates].values, df[treatment].values.reshape(-1,1))\n",
    "\n",
    "with open(MODEL_PATH.format('treatment_model.pkl'), 'wb') as f:\n",
    "    pickle.dump(reg, f)"
   ]
  },
  {
   "cell_type": "code",
   "execution_count": 9,
   "metadata": {},
   "outputs": [],
   "source": [
    "df['ps_score'] = reg.predict(df[covariates].values).reshape(-1)"
   ]
  },
  {
   "cell_type": "code",
   "execution_count": 10,
   "metadata": {},
   "outputs": [
    {
     "name": "stderr",
     "output_type": "stream",
     "text": [
      "/home/trduong/anaconda3/envs/cf-generation/lib/python3.7/site-packages/sklearn/utils/validation.py:72: DataConversionWarning: A column-vector y was passed when a 1d array was expected. Please change the shape of y to (n_samples, ), for example using ravel().\n",
      "  return f(**kwargs)\n"
     ]
    }
   ],
   "source": [
    "reg = LinearRegression()\n",
    "reg = ElasticNet(random_state=0)\n",
    "reg = GradientBoostingRegressor(random_state=0)\n",
    "reg.fit(df[features].values, df[outcome].values.reshape(-1,1))\n",
    "\n",
    "with open(MODEL_PATH.format('outcome_model.pkl'), 'wb') as f:\n",
    "    pickle.dump(reg, f)"
   ]
  },
  {
   "cell_type": "code",
   "execution_count": 11,
   "metadata": {},
   "outputs": [],
   "source": [
    "df['y_estimator'] = reg.predict(df[features].values).reshape(-1)"
   ]
  },
  {
   "cell_type": "code",
   "execution_count": 12,
   "metadata": {},
   "outputs": [
    {
     "data": {
      "text/html": [
       "<div>\n",
       "<style scoped>\n",
       "    .dataframe tbody tr th:only-of-type {\n",
       "        vertical-align: middle;\n",
       "    }\n",
       "\n",
       "    .dataframe tbody tr th {\n",
       "        vertical-align: top;\n",
       "    }\n",
       "\n",
       "    .dataframe thead th {\n",
       "        text-align: right;\n",
       "    }\n",
       "</style>\n",
       "<table border=\"1\" class=\"dataframe\">\n",
       "  <thead>\n",
       "    <tr style=\"text-align: right;\">\n",
       "      <th></th>\n",
       "      <th>ID</th>\n",
       "      <th>Taxonrich</th>\n",
       "      <th>logTN</th>\n",
       "      <th>ELEV</th>\n",
       "      <th>longitude</th>\n",
       "      <th>logprecip</th>\n",
       "      <th>logAREA</th>\n",
       "      <th>logCL</th>\n",
       "      <th>logHCO3</th>\n",
       "      <th>logSO4</th>\n",
       "      <th>SED</th>\n",
       "      <th>STRMTEMP</th>\n",
       "      <th>Percent.AGT</th>\n",
       "      <th>Percent.URB</th>\n",
       "      <th>Percent.Canopy</th>\n",
       "      <th>Riparian.Disturb.</th>\n",
       "      <th>predicted_treatment</th>\n",
       "      <th>predicted_outcome</th>\n",
       "    </tr>\n",
       "  </thead>\n",
       "  <tbody>\n",
       "    <tr>\n",
       "      <th>0</th>\n",
       "      <td>1</td>\n",
       "      <td>42</td>\n",
       "      <td>2.439333</td>\n",
       "      <td>2149</td>\n",
       "      <td>-104.904722</td>\n",
       "      <td>-0.514165</td>\n",
       "      <td>4.111693</td>\n",
       "      <td>6.156131</td>\n",
       "      <td>7.510238</td>\n",
       "      <td>5.685619</td>\n",
       "      <td>40.000000</td>\n",
       "      <td>18.5</td>\n",
       "      <td>0.34</td>\n",
       "      <td>0.80</td>\n",
       "      <td>0.500000</td>\n",
       "      <td>0.33335</td>\n",
       "      <td>2.446542</td>\n",
       "      <td>45.840044</td>\n",
       "    </tr>\n",
       "    <tr>\n",
       "      <th>1</th>\n",
       "      <td>2</td>\n",
       "      <td>26</td>\n",
       "      <td>2.891537</td>\n",
       "      <td>760</td>\n",
       "      <td>-101.782640</td>\n",
       "      <td>-0.825536</td>\n",
       "      <td>4.937993</td>\n",
       "      <td>5.731073</td>\n",
       "      <td>8.365002</td>\n",
       "      <td>6.002157</td>\n",
       "      <td>29.523810</td>\n",
       "      <td>27.0</td>\n",
       "      <td>21.22</td>\n",
       "      <td>0.46</td>\n",
       "      <td>0.681818</td>\n",
       "      <td>1.50000</td>\n",
       "      <td>2.732796</td>\n",
       "      <td>36.252362</td>\n",
       "    </tr>\n",
       "    <tr>\n",
       "      <th>2</th>\n",
       "      <td>3</td>\n",
       "      <td>58</td>\n",
       "      <td>1.897627</td>\n",
       "      <td>58</td>\n",
       "      <td>-121.978611</td>\n",
       "      <td>0.981704</td>\n",
       "      <td>6.171805</td>\n",
       "      <td>3.815512</td>\n",
       "      <td>6.291312</td>\n",
       "      <td>4.163560</td>\n",
       "      <td>11.428571</td>\n",
       "      <td>18.1</td>\n",
       "      <td>0.00</td>\n",
       "      <td>0.24</td>\n",
       "      <td>0.090909</td>\n",
       "      <td>0.00000</td>\n",
       "      <td>2.003383</td>\n",
       "      <td>56.344487</td>\n",
       "    </tr>\n",
       "    <tr>\n",
       "      <th>3</th>\n",
       "      <td>4</td>\n",
       "      <td>32</td>\n",
       "      <td>2.642465</td>\n",
       "      <td>1719</td>\n",
       "      <td>-108.826667</td>\n",
       "      <td>-0.452557</td>\n",
       "      <td>7.888537</td>\n",
       "      <td>8.357799</td>\n",
       "      <td>7.663746</td>\n",
       "      <td>6.764693</td>\n",
       "      <td>18.095238</td>\n",
       "      <td>8.1</td>\n",
       "      <td>1.51</td>\n",
       "      <td>0.05</td>\n",
       "      <td>0.227273</td>\n",
       "      <td>0.00000</td>\n",
       "      <td>2.451251</td>\n",
       "      <td>35.070987</td>\n",
       "    </tr>\n",
       "    <tr>\n",
       "      <th>4</th>\n",
       "      <td>5</td>\n",
       "      <td>55</td>\n",
       "      <td>2.252853</td>\n",
       "      <td>1146</td>\n",
       "      <td>-117.531667</td>\n",
       "      <td>0.156149</td>\n",
       "      <td>3.156575</td>\n",
       "      <td>3.063391</td>\n",
       "      <td>7.678875</td>\n",
       "      <td>5.563370</td>\n",
       "      <td>16.190476</td>\n",
       "      <td>13.9</td>\n",
       "      <td>0.72</td>\n",
       "      <td>0.02</td>\n",
       "      <td>0.818182</td>\n",
       "      <td>0.00000</td>\n",
       "      <td>2.103772</td>\n",
       "      <td>57.139924</td>\n",
       "    </tr>\n",
       "  </tbody>\n",
       "</table>\n",
       "</div>"
      ],
      "text/plain": [
       "   ID  Taxonrich     logTN  ELEV   longitude  logprecip   logAREA     logCL  \\\n",
       "0   1         42  2.439333  2149 -104.904722  -0.514165  4.111693  6.156131   \n",
       "1   2         26  2.891537   760 -101.782640  -0.825536  4.937993  5.731073   \n",
       "2   3         58  1.897627    58 -121.978611   0.981704  6.171805  3.815512   \n",
       "3   4         32  2.642465  1719 -108.826667  -0.452557  7.888537  8.357799   \n",
       "4   5         55  2.252853  1146 -117.531667   0.156149  3.156575  3.063391   \n",
       "\n",
       "    logHCO3    logSO4        SED  STRMTEMP  Percent.AGT  Percent.URB  \\\n",
       "0  7.510238  5.685619  40.000000      18.5         0.34         0.80   \n",
       "1  8.365002  6.002157  29.523810      27.0        21.22         0.46   \n",
       "2  6.291312  4.163560  11.428571      18.1         0.00         0.24   \n",
       "3  7.663746  6.764693  18.095238       8.1         1.51         0.05   \n",
       "4  7.678875  5.563370  16.190476      13.9         0.72         0.02   \n",
       "\n",
       "   Percent.Canopy  Riparian.Disturb.  predicted_treatment  predicted_outcome  \n",
       "0        0.500000            0.33335             2.446542          45.840044  \n",
       "1        0.681818            1.50000             2.732796          36.252362  \n",
       "2        0.090909            0.00000             2.003383          56.344487  \n",
       "3        0.227273            0.00000             2.451251          35.070987  \n",
       "4        0.818182            0.00000             2.103772          57.139924  "
      ]
     },
     "execution_count": 12,
     "metadata": {},
     "output_type": "execute_result"
    }
   ],
   "source": [
    "df.head()"
   ]
  },
  {
   "cell_type": "code",
   "execution_count": null,
   "metadata": {},
   "outputs": [],
   "source": [
    "df.to_csv(\"/data/trduong/treatment-effect-optimization/data/processed/stream_ps.csv\", index = False)"
   ]
  },
  {
   "cell_type": "markdown",
   "metadata": {},
   "source": [
    "### Check performance "
   ]
  },
  {
   "cell_type": "code",
   "execution_count": 13,
   "metadata": {},
   "outputs": [],
   "source": [
    "mse1 = mean_squared_error(df[treatment], df['predicted_treatment'])\n",
    "mse2 = mean_squared_error(df[outcome], df['predicted_outcome'])"
   ]
  },
  {
   "cell_type": "code",
   "execution_count": 14,
   "metadata": {},
   "outputs": [
    {
     "name": "stdout",
     "output_type": "stream",
     "text": [
      "Mean squared error in treatment model: 0.0343\n",
      "Mean squared error in outcome model: 50.1035\n"
     ]
    }
   ],
   "source": [
    "print(\"Mean squared error in treatment model: {:.4f}\".format(mse1))\n",
    "print(\"Mean squared error in outcome model: {:.4f}\".format(mse2))"
   ]
  }
 ],
 "metadata": {
  "kernelspec": {
   "display_name": "Python [conda env:cf-generation]",
   "language": "python",
   "name": "conda-env-cf-generation-py"
  },
  "language_info": {
   "codemirror_mode": {
    "name": "ipython",
    "version": 3
   },
   "file_extension": ".py",
   "mimetype": "text/x-python",
   "name": "python",
   "nbconvert_exporter": "python",
   "pygments_lexer": "ipython3",
   "version": "3.7.9"
  },
  "toc": {
   "base_numbering": 1,
   "nav_menu": {},
   "number_sections": true,
   "sideBar": true,
   "skip_h1_title": false,
   "title_cell": "Table of Contents",
   "title_sidebar": "Contents",
   "toc_cell": false,
   "toc_position": {},
   "toc_section_display": true,
   "toc_window_display": false
  }
 },
 "nbformat": 4,
 "nbformat_minor": 4
}
